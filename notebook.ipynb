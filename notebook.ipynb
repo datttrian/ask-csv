{
 "cells": [
  {
   "cell_type": "code",
   "execution_count": 2,
   "metadata": {},
   "outputs": [],
   "source": [
    "import os\n",
    "\n",
    "import openai\n",
    "from dotenv import load_dotenv\n",
    "from openai import OpenAI\n",
    "\n",
    "load_dotenv()\n",
    "openai.api_key = os.environ[\"OPENAI_API_KEY\"]\n",
    "\n",
    "\n",
    "client = OpenAI()\n",
    "\n",
    "file = client.files.create(\n",
    "    file=open(\"parking_violation.csv\", \"rb\"), purpose=\"assistants\"\n",
    ")\n",
    "\n",
    "assistant = client.beta.assistants.create(\n",
    "    name=\"Data visualizer\",\n",
    "    description=\"You are great at creating beautiful data visualizations. You analyze data present in .csv files, understand trends, and come up with data visualizations relevant to those trends. You also share a brief text summary of the trends observed.\",\n",
    "    model=\"gpt-4o\",\n",
    "    tools=[{\"type\": \"code_interpreter\"}],\n",
    "    tool_resources={\"code_interpreter\": {\"file_ids\": [file.id]}},\n",
    ")\n",
    "\n",
    "thread = client.beta.threads.create(\n",
    "    messages=[\n",
    "        {\n",
    "            \"role\": \"user\",\n",
    "            \"content\": \"Create 3 data visualizations based on the trends in this file.\",\n",
    "            \"attachments\": [\n",
    "                {\"file_id\": file.id, \"tools\": [{\"type\": \"code_interpreter\"}]}\n",
    "            ],\n",
    "        }\n",
    "    ]\n",
    ")\n",
    "\n",
    "# Submit the thread to the assistant (as a new run).\n",
    "run = client.beta.threads.runs.create(thread_id=thread.id, assistant_id=assistant.id)\n",
    "print(f\"👉 Run Created: {run.id}\")\n"
   ]
  },
  {
   "cell_type": "code",
   "execution_count": 8,
   "metadata": {},
   "outputs": [
    {
     "name": "stdout",
     "output_type": "stream",
     "text": [
      "🏁 Run Completed!\n"
     ]
    }
   ],
   "source": [
    "import time\n",
    "\n",
    "# Wait for run to complete.\n",
    "while run.status != \"completed\":\n",
    "    run = client.beta.threads.runs.retrieve(thread_id=thread.id, run_id=run.id)\n",
    "    print(f\"🏃 Run Status: {run.status}\")\n",
    "    time.sleep(1)\n",
    "else:\n",
    "    print(f\"🏁 Run Completed!\")\n",
    "\n",
    "# Get the latest message from the thread.\n",
    "message_response = client.beta.threads.messages.list(thread_id=thread.id)\n",
    "messages = message_response.data\n"
   ]
  },
  {
   "cell_type": "code",
   "execution_count": 12,
   "metadata": {},
   "outputs": [
    {
     "name": "stdout",
     "output_type": "stream",
     "text": [
      "Message(id='msg_4eAG4WDmko95o5K2jR5HvEjH', assistant_id='asst_PVcQX7FjZVjaFF2NHJsfTy31', attachments=[], completed_at=None, content=[ImageFileContentBlock(image_file=ImageFile(file_id='file-yxDf3NDSodEzxxzooqUa9J2a', detail=None), type='image_file'), TextContentBlock(text=Text(annotations=[], value='The third visualization shows the top 10 most common violation codes. Violation code 98 appears most frequently, followed by codes 40 and 14.\\n\\nTo summarize, we visualized:\\n1. The trend of violations over time, showing a spike around 2019.\\n2. The distribution of vehicle makes with the most violations, where Honda, Nissan, and Toyota dominate.\\n3. The distribution of the top 10 violation codes, with code 98 being the most common.\\n\\nIf you need further analysis or more specific insights, please let me know!'), type='text')], created_at=1718007592, incomplete_at=None, incomplete_details=None, metadata={}, object='thread.message', role='assistant', run_id='run_i9fsKMwEiX5YvZFRLmVS8l2H', status=None, thread_id='thread_35am3TudXzjvJaMNlOSHJCHi')\n"
     ]
    }
   ],
   "source": [
    "# Print the latest message.\n",
    "latest_message = messages[0]\n",
    "print(latest_message)\n",
    "# print(f\"💬 Response: {latest_message.content[0].text.value}\")"
   ]
  }
 ],
 "metadata": {
  "kernelspec": {
   "display_name": "Python 3",
   "language": "python",
   "name": "python3"
  },
  "language_info": {
   "codemirror_mode": {
    "name": "ipython",
    "version": 3
   },
   "file_extension": ".py",
   "mimetype": "text/x-python",
   "name": "python",
   "nbconvert_exporter": "python",
   "pygments_lexer": "ipython3",
   "version": "3.10.14"
  }
 },
 "nbformat": 4,
 "nbformat_minor": 2
}
