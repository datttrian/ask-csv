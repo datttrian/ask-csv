{
 "cells": [
  {
   "cell_type": "code",
   "execution_count": 2,
   "metadata": {},
   "outputs": [],
   "source": [
    "import os\n",
    "\n",
    "import openai\n",
    "from dotenv import load_dotenv\n",
    "from openai import OpenAI\n",
    "\n",
    "load_dotenv()\n",
    "openai.api_key = os.environ[\"OPENAI_API_KEY\"]\n",
    "\n",
    "\n",
    "client = OpenAI()\n",
    "\n",
    "file = client.files.create(\n",
    "    file=open(\"parking_violation.csv\", \"rb\"), purpose=\"assistants\"\n",
    ")\n",
    "\n",
    "assistant = client.beta.assistants.create(\n",
    "    name=\"Data visualizer\",\n",
    "    description=\"You are great at creating beautiful data visualizations. You analyze data present in .csv files, understand trends, and come up with data visualizations relevant to those trends. You also share a brief text summary of the trends observed.\",\n",
    "    model=\"gpt-4o\",\n",
    "    tools=[{\"type\": \"code_interpreter\"}],\n",
    "    tool_resources={\"code_interpreter\": {\"file_ids\": [file.id]}},\n",
    ")\n",
    "\n",
    "thread = client.beta.threads.create(\n",
    "    messages=[\n",
    "        {\n",
    "            \"role\": \"user\",\n",
    "            \"content\": \"Create 3 data visualizations based on the trends in this file.\",\n",
    "            \"attachments\": [\n",
    "                {\"file_id\": file.id, \"tools\": [{\"type\": \"code_interpreter\"}]}\n",
    "            ],\n",
    "        }\n",
    "    ]\n",
    ")\n",
    "\n",
    "# Submit the thread to the assistant (as a new run).\n",
    "run = client.beta.threads.runs.create(thread_id=thread.id, assistant_id=assistant.id)\n",
    "print(f\"👉 Run Created: {run.id}\")\n"
   ]
  },
  {
   "cell_type": "code",
   "execution_count": 8,
   "metadata": {},
   "outputs": [
    {
     "name": "stdout",
     "output_type": "stream",
     "text": [
      "🏁 Run Completed!\n"
     ]
    }
   ],
   "source": [
    "import time\n",
    "\n",
    "# Wait for run to complete.\n",
    "while run.status != \"completed\":\n",
    "    run = client.beta.threads.runs.retrieve(thread_id=thread.id, run_id=run.id)\n",
    "    print(f\"🏃 Run Status: {run.status}\")\n",
    "    time.sleep(1)\n",
    "else:\n",
    "    print(f\"🏁 Run Completed!\")\n",
    "\n",
    "# Get the latest message from the thread.\n",
    "message_response = client.beta.threads.messages.list(thread_id=thread.id)\n",
    "messages = message_response.data\n"
   ]
  },
  {
   "cell_type": "code",
   "execution_count": 15,
   "metadata": {},
   "outputs": [
    {
     "data": {
      "text/plain": [
       "SyncCursorPage[Message](data=[Message(id='msg_4eAG4WDmko95o5K2jR5HvEjH', assistant_id='asst_PVcQX7FjZVjaFF2NHJsfTy31', attachments=[], completed_at=None, content=[ImageFileContentBlock(image_file=ImageFile(file_id='file-yxDf3NDSodEzxxzooqUa9J2a', detail=None), type='image_file'), TextContentBlock(text=Text(annotations=[], value='The third visualization shows the top 10 most common violation codes. Violation code 98 appears most frequently, followed by codes 40 and 14.\\n\\nTo summarize, we visualized:\\n1. The trend of violations over time, showing a spike around 2019.\\n2. The distribution of vehicle makes with the most violations, where Honda, Nissan, and Toyota dominate.\\n3. The distribution of the top 10 violation codes, with code 98 being the most common.\\n\\nIf you need further analysis or more specific insights, please let me know!'), type='text')], created_at=1718007592, incomplete_at=None, incomplete_details=None, metadata={}, object='thread.message', role='assistant', run_id='run_i9fsKMwEiX5YvZFRLmVS8l2H', status=None, thread_id='thread_35am3TudXzjvJaMNlOSHJCHi'), Message(id='msg_xUemmk1jV8yjDOvGjoqO4M5R', assistant_id='asst_PVcQX7FjZVjaFF2NHJsfTy31', attachments=[], completed_at=None, content=[ImageFileContentBlock(image_file=ImageFile(file_id='file-6N2jeZppTDhIi54AbIqAPAGa', detail=None), type='image_file'), TextContentBlock(text=Text(annotations=[], value=\"The second visualization shows the top 10 vehicle makes with the most violations, where Honda, Nissan, and Toyota lead the list.\\n\\nFinally, let's create the third visualization, which will focus on the distribution of violation codes.\"), type='text')], created_at=1718007580, incomplete_at=None, incomplete_details=None, metadata={}, object='thread.message', role='assistant', run_id='run_i9fsKMwEiX5YvZFRLmVS8l2H', status=None, thread_id='thread_35am3TudXzjvJaMNlOSHJCHi'), Message(id='msg_Fplwkto2U4MjEVDIS2sufuyD', assistant_id='asst_PVcQX7FjZVjaFF2NHJsfTy31', attachments=[], completed_at=None, content=[ImageFileContentBlock(image_file=ImageFile(file_id='file-EmLcJuk57fsz9neDeXddHUPk', detail=None), type='image_file'), TextContentBlock(text=Text(annotations=[], value=\"The first visualization shows the trend of violations over time. Most violations in the dataset are clustered around the year 2019.\\n\\nNext, let's create the second visualization, which is the distribution of vehicle makes.\"), type='text')], created_at=1718007569, incomplete_at=None, incomplete_details=None, metadata={}, object='thread.message', role='assistant', run_id='run_i9fsKMwEiX5YvZFRLmVS8l2H', status=None, thread_id='thread_35am3TudXzjvJaMNlOSHJCHi'), Message(id='msg_YxgHc29YKUbZwwcLoFmhZykT', assistant_id='asst_PVcQX7FjZVjaFF2NHJsfTy31', attachments=[], completed_at=None, content=[TextContentBlock(text=Text(annotations=[], value=\"Based on the dataset provided, which appears to be related to traffic violations in New York, let's create three visualizations:\\n\\n1. **Trend of violations over time**: We will create a line plot showing the number of violations per month.\\n2. **Distribution of vehicle makes**: A bar chart showing the frequency of different vehicle makes.\\n3. **Violation codes distribution**: A bar chart showing the most common violation codes.\\n\\nLet's proceed with creating these visualizations.\"), type='text')], created_at=1718007551, incomplete_at=None, incomplete_details=None, metadata={}, object='thread.message', role='assistant', run_id='run_i9fsKMwEiX5YvZFRLmVS8l2H', status=None, thread_id='thread_35am3TudXzjvJaMNlOSHJCHi'), Message(id='msg_g9811lJxKkb47GtJYBtVLiEQ', assistant_id=None, attachments=[Attachment(file_id='file-4zaBhPXfUovlBFYTt9iVD08K', tools=[CodeInterpreterTool(type='code_interpreter')])], completed_at=None, content=[TextContentBlock(text=Text(annotations=[], value='Create 3 data visualizations based on the trends in this file.'), type='text')], created_at=1718007540, incomplete_at=None, incomplete_details=None, metadata={}, object='thread.message', role='user', run_id=None, status=None, thread_id='thread_35am3TudXzjvJaMNlOSHJCHi')], object='list', first_id='msg_4eAG4WDmko95o5K2jR5HvEjH', last_id='msg_g9811lJxKkb47GtJYBtVLiEQ', has_more=False)"
      ]
     },
     "execution_count": 15,
     "metadata": {},
     "output_type": "execute_result"
    }
   ],
   "source": [
    "message_response"
   ]
  },
  {
   "cell_type": "code",
   "execution_count": 16,
   "metadata": {},
   "outputs": [
    {
     "data": {
      "text/plain": [
       "[Message(id='msg_4eAG4WDmko95o5K2jR5HvEjH', assistant_id='asst_PVcQX7FjZVjaFF2NHJsfTy31', attachments=[], completed_at=None, content=[ImageFileContentBlock(image_file=ImageFile(file_id='file-yxDf3NDSodEzxxzooqUa9J2a', detail=None), type='image_file'), TextContentBlock(text=Text(annotations=[], value='The third visualization shows the top 10 most common violation codes. Violation code 98 appears most frequently, followed by codes 40 and 14.\\n\\nTo summarize, we visualized:\\n1. The trend of violations over time, showing a spike around 2019.\\n2. The distribution of vehicle makes with the most violations, where Honda, Nissan, and Toyota dominate.\\n3. The distribution of the top 10 violation codes, with code 98 being the most common.\\n\\nIf you need further analysis or more specific insights, please let me know!'), type='text')], created_at=1718007592, incomplete_at=None, incomplete_details=None, metadata={}, object='thread.message', role='assistant', run_id='run_i9fsKMwEiX5YvZFRLmVS8l2H', status=None, thread_id='thread_35am3TudXzjvJaMNlOSHJCHi'),\n",
       " Message(id='msg_xUemmk1jV8yjDOvGjoqO4M5R', assistant_id='asst_PVcQX7FjZVjaFF2NHJsfTy31', attachments=[], completed_at=None, content=[ImageFileContentBlock(image_file=ImageFile(file_id='file-6N2jeZppTDhIi54AbIqAPAGa', detail=None), type='image_file'), TextContentBlock(text=Text(annotations=[], value=\"The second visualization shows the top 10 vehicle makes with the most violations, where Honda, Nissan, and Toyota lead the list.\\n\\nFinally, let's create the third visualization, which will focus on the distribution of violation codes.\"), type='text')], created_at=1718007580, incomplete_at=None, incomplete_details=None, metadata={}, object='thread.message', role='assistant', run_id='run_i9fsKMwEiX5YvZFRLmVS8l2H', status=None, thread_id='thread_35am3TudXzjvJaMNlOSHJCHi'),\n",
       " Message(id='msg_Fplwkto2U4MjEVDIS2sufuyD', assistant_id='asst_PVcQX7FjZVjaFF2NHJsfTy31', attachments=[], completed_at=None, content=[ImageFileContentBlock(image_file=ImageFile(file_id='file-EmLcJuk57fsz9neDeXddHUPk', detail=None), type='image_file'), TextContentBlock(text=Text(annotations=[], value=\"The first visualization shows the trend of violations over time. Most violations in the dataset are clustered around the year 2019.\\n\\nNext, let's create the second visualization, which is the distribution of vehicle makes.\"), type='text')], created_at=1718007569, incomplete_at=None, incomplete_details=None, metadata={}, object='thread.message', role='assistant', run_id='run_i9fsKMwEiX5YvZFRLmVS8l2H', status=None, thread_id='thread_35am3TudXzjvJaMNlOSHJCHi'),\n",
       " Message(id='msg_YxgHc29YKUbZwwcLoFmhZykT', assistant_id='asst_PVcQX7FjZVjaFF2NHJsfTy31', attachments=[], completed_at=None, content=[TextContentBlock(text=Text(annotations=[], value=\"Based on the dataset provided, which appears to be related to traffic violations in New York, let's create three visualizations:\\n\\n1. **Trend of violations over time**: We will create a line plot showing the number of violations per month.\\n2. **Distribution of vehicle makes**: A bar chart showing the frequency of different vehicle makes.\\n3. **Violation codes distribution**: A bar chart showing the most common violation codes.\\n\\nLet's proceed with creating these visualizations.\"), type='text')], created_at=1718007551, incomplete_at=None, incomplete_details=None, metadata={}, object='thread.message', role='assistant', run_id='run_i9fsKMwEiX5YvZFRLmVS8l2H', status=None, thread_id='thread_35am3TudXzjvJaMNlOSHJCHi'),\n",
       " Message(id='msg_g9811lJxKkb47GtJYBtVLiEQ', assistant_id=None, attachments=[Attachment(file_id='file-4zaBhPXfUovlBFYTt9iVD08K', tools=[CodeInterpreterTool(type='code_interpreter')])], completed_at=None, content=[TextContentBlock(text=Text(annotations=[], value='Create 3 data visualizations based on the trends in this file.'), type='text')], created_at=1718007540, incomplete_at=None, incomplete_details=None, metadata={}, object='thread.message', role='user', run_id=None, status=None, thread_id='thread_35am3TudXzjvJaMNlOSHJCHi')]"
      ]
     },
     "execution_count": 16,
     "metadata": {},
     "output_type": "execute_result"
    }
   ],
   "source": [
    "messages"
   ]
  },
  {
   "cell_type": "code",
   "execution_count": 23,
   "metadata": {},
   "outputs": [
    {
     "name": "stdout",
     "output_type": "stream",
     "text": [
      "Message(id='msg_g9811lJxKkb47GtJYBtVLiEQ', assistant_id=None, attachments=[Attachment(file_id='file-4zaBhPXfUovlBFYTt9iVD08K', tools=[CodeInterpreterTool(type='code_interpreter')])], completed_at=None, content=[TextContentBlock(text=Text(annotations=[], value='Create 3 data visualizations based on the trends in this file.'), type='text')], created_at=1718007540, incomplete_at=None, incomplete_details=None, metadata={}, object='thread.message', role='user', run_id=None, status=None, thread_id='thread_35am3TudXzjvJaMNlOSHJCHi')\n",
      "💬 Response: Text(annotations=[], value='Create 3 data visualizations based on the trends in this file.')\n"
     ]
    }
   ],
   "source": [
    "# Print the latest message.\n",
    "latest_message = messages[4]\n",
    "print(latest_message)\n",
    "print(f\"💬 Response: {latest_message.content[0].text}\")\n"
   ]
  }
 ],
 "metadata": {
  "kernelspec": {
   "display_name": "Python 3",
   "language": "python",
   "name": "python3"
  },
  "language_info": {
   "codemirror_mode": {
    "name": "ipython",
    "version": 3
   },
   "file_extension": ".py",
   "mimetype": "text/x-python",
   "name": "python",
   "nbconvert_exporter": "python",
   "pygments_lexer": "ipython3",
   "version": "3.10.14"
  }
 },
 "nbformat": 4,
 "nbformat_minor": 2
}
